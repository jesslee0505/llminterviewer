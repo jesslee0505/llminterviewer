{
 "cells": [
  {
   "cell_type": "markdown",
   "metadata": {},
   "source": [
    "# ElevenLabs Demo\n",
    "Can find the original source code from ElevenLabs official documentation: https://elevenlabs.io/docs/api-reference/introduction"
   ]
  },
  {
   "cell_type": "code",
   "execution_count": 1,
   "metadata": {},
   "outputs": [
    {
     "name": "stdout",
     "output_type": "stream",
     "text": [
      "Collecting elevenlabs\n",
      "  Obtaining dependency information for elevenlabs from https://files.pythonhosted.org/packages/4f/f0/f711ffe2fcc4fb8405889ca81a478c54ddaa290ca39d74823c8042eacf3f/elevenlabs-1.56.0-py3-none-any.whl.metadata\n",
      "  Downloading elevenlabs-1.56.0-py3-none-any.whl.metadata (7.3 kB)\n",
      "Collecting httpx>=0.21.2 (from elevenlabs)\n",
      "  Obtaining dependency information for httpx>=0.21.2 from https://files.pythonhosted.org/packages/2a/39/e50c7c3a983047577ee07d2a9e53faf5a69493943ec3f6a384bdc792deb2/httpx-0.28.1-py3-none-any.whl.metadata\n",
      "  Downloading httpx-0.28.1-py3-none-any.whl.metadata (7.1 kB)\n",
      "Collecting pydantic>=1.9.2 (from elevenlabs)\n",
      "  Obtaining dependency information for pydantic>=1.9.2 from https://files.pythonhosted.org/packages/bf/c2/0f3baea344d0b15e35cb3e04ad5b953fa05106b76efbf4c782a3f47f22f5/pydantic-2.11.2-py3-none-any.whl.metadata\n",
      "  Downloading pydantic-2.11.2-py3-none-any.whl.metadata (64 kB)\n",
      "\u001b[2K     \u001b[90m━━━━━━━━━━━━━━━━━━━━━━━━━━━━━━━━━━━━━━━━\u001b[0m \u001b[32m64.7/64.7 kB\u001b[0m \u001b[31m1.2 MB/s\u001b[0m eta \u001b[36m0:00:00\u001b[0ma \u001b[36m0:00:01\u001b[0m\n",
      "\u001b[?25hCollecting pydantic-core<3.0.0,>=2.18.2 (from elevenlabs)\n",
      "  Obtaining dependency information for pydantic-core<3.0.0,>=2.18.2 from https://files.pythonhosted.org/packages/a8/65/6ab3a536776cad5343f625245bd38165d6663256ad43f3a200e5936afd6c/pydantic_core-2.33.1-cp311-cp311-macosx_11_0_arm64.whl.metadata\n",
      "  Downloading pydantic_core-2.33.1-cp311-cp311-macosx_11_0_arm64.whl.metadata (6.8 kB)\n",
      "Requirement already satisfied: requests>=2.20 in /Users/napo/anaconda3/lib/python3.11/site-packages (from elevenlabs) (2.31.0)\n",
      "Requirement already satisfied: typing_extensions>=4.0.0 in /Users/napo/anaconda3/lib/python3.11/site-packages (from elevenlabs) (4.13.0)\n",
      "Collecting websockets>=11.0 (from elevenlabs)\n",
      "  Obtaining dependency information for websockets>=11.0 from https://files.pythonhosted.org/packages/86/f2/10b55821dd40eb696ce4704a87d57774696f9451108cff0d2824c97e0f97/websockets-15.0.1-cp311-cp311-macosx_11_0_arm64.whl.metadata\n",
      "  Downloading websockets-15.0.1-cp311-cp311-macosx_11_0_arm64.whl.metadata (6.8 kB)\n",
      "Requirement already satisfied: anyio in /Users/napo/anaconda3/lib/python3.11/site-packages (from httpx>=0.21.2->elevenlabs) (3.5.0)\n",
      "Requirement already satisfied: certifi in /Users/napo/anaconda3/lib/python3.11/site-packages (from httpx>=0.21.2->elevenlabs) (2023.7.22)\n",
      "Collecting httpcore==1.* (from httpx>=0.21.2->elevenlabs)\n",
      "  Obtaining dependency information for httpcore==1.* from https://files.pythonhosted.org/packages/87/f5/72347bc88306acb359581ac4d52f23c0ef445b57157adedb9aee0cd689d2/httpcore-1.0.7-py3-none-any.whl.metadata\n",
      "  Downloading httpcore-1.0.7-py3-none-any.whl.metadata (21 kB)\n",
      "Requirement already satisfied: idna in /Users/napo/anaconda3/lib/python3.11/site-packages (from httpx>=0.21.2->elevenlabs) (3.4)\n",
      "Collecting h11<0.15,>=0.13 (from httpcore==1.*->httpx>=0.21.2->elevenlabs)\n",
      "  Obtaining dependency information for h11<0.15,>=0.13 from https://files.pythonhosted.org/packages/95/04/ff642e65ad6b90db43e668d70ffb6736436c7ce41fcc549f4e9472234127/h11-0.14.0-py3-none-any.whl.metadata\n",
      "  Downloading h11-0.14.0-py3-none-any.whl.metadata (8.2 kB)\n",
      "Collecting annotated-types>=0.6.0 (from pydantic>=1.9.2->elevenlabs)\n",
      "  Obtaining dependency information for annotated-types>=0.6.0 from https://files.pythonhosted.org/packages/78/b6/6307fbef88d9b5ee7421e68d78a9f162e0da4900bc5f5793f6d3d0e34fb8/annotated_types-0.7.0-py3-none-any.whl.metadata\n",
      "  Downloading annotated_types-0.7.0-py3-none-any.whl.metadata (15 kB)\n",
      "Collecting typing-inspection>=0.4.0 (from pydantic>=1.9.2->elevenlabs)\n",
      "  Obtaining dependency information for typing-inspection>=0.4.0 from https://files.pythonhosted.org/packages/31/08/aa4fdfb71f7de5176385bd9e90852eaf6b5d622735020ad600f2bab54385/typing_inspection-0.4.0-py3-none-any.whl.metadata\n",
      "  Downloading typing_inspection-0.4.0-py3-none-any.whl.metadata (2.6 kB)\n",
      "Requirement already satisfied: charset-normalizer<4,>=2 in /Users/napo/anaconda3/lib/python3.11/site-packages (from requests>=2.20->elevenlabs) (2.0.4)\n",
      "Requirement already satisfied: urllib3<3,>=1.21.1 in /Users/napo/anaconda3/lib/python3.11/site-packages (from requests>=2.20->elevenlabs) (1.26.16)\n",
      "Requirement already satisfied: sniffio>=1.1 in /Users/napo/anaconda3/lib/python3.11/site-packages (from anyio->httpx>=0.21.2->elevenlabs) (1.2.0)\n",
      "Downloading elevenlabs-1.56.0-py3-none-any.whl (413 kB)\n",
      "\u001b[2K   \u001b[90m━━━━━━━━━━━━━━━━━━━━━━━━━━━━━━━━━━━━━━━━\u001b[0m \u001b[32m413.7/413.7 kB\u001b[0m \u001b[31m1.9 MB/s\u001b[0m eta \u001b[36m0:00:00\u001b[0ma \u001b[36m0:00:01\u001b[0m\n",
      "\u001b[?25hDownloading httpx-0.28.1-py3-none-any.whl (73 kB)\n",
      "\u001b[2K   \u001b[90m━━━━━━━━━━━━━━━━━━━━━━━━━━━━━━━━━━━━━━━━\u001b[0m \u001b[32m73.5/73.5 kB\u001b[0m \u001b[31m4.4 MB/s\u001b[0m eta \u001b[36m0:00:00\u001b[0m\n",
      "\u001b[?25hDownloading httpcore-1.0.7-py3-none-any.whl (78 kB)\n",
      "\u001b[2K   \u001b[90m━━━━━━━━━━━━━━━━━━━━━━━━━━━━━━━━━━━━━━━━\u001b[0m \u001b[32m78.6/78.6 kB\u001b[0m \u001b[31m1.0 MB/s\u001b[0m eta \u001b[36m0:00:00\u001b[0ma \u001b[36m0:00:01\u001b[0m\n",
      "\u001b[?25hDownloading pydantic-2.11.2-py3-none-any.whl (443 kB)\n",
      "\u001b[2K   \u001b[90m━━━━━━━━━━━━━━━━━━━━━━━━━━━━━━━━━━━━━━━━\u001b[0m \u001b[32m443.3/443.3 kB\u001b[0m \u001b[31m1.6 MB/s\u001b[0m eta \u001b[36m0:00:00\u001b[0ma \u001b[36m0:00:01\u001b[0m\n",
      "\u001b[?25hDownloading pydantic_core-2.33.1-cp311-cp311-macosx_11_0_arm64.whl (1.9 MB)\n",
      "\u001b[2K   \u001b[90m━━━━━━━━━━━━━━━━━━━━━━━━━━━━━━━━━━━━━━━━\u001b[0m \u001b[32m1.9/1.9 MB\u001b[0m \u001b[31m1.5 MB/s\u001b[0m eta \u001b[36m0:00:00\u001b[0ma \u001b[36m0:00:01\u001b[0m0m\n",
      "\u001b[?25hDownloading websockets-15.0.1-cp311-cp311-macosx_11_0_arm64.whl (173 kB)\n",
      "\u001b[2K   \u001b[90m━━━━━━━━━━━━━━━━━━━━━━━━━━━━━━━━━━━━━━━━\u001b[0m \u001b[32m173.3/173.3 kB\u001b[0m \u001b[31m1.9 MB/s\u001b[0m eta \u001b[36m0:00:00\u001b[0ma \u001b[36m0:00:01\u001b[0m\n",
      "\u001b[?25hDownloading annotated_types-0.7.0-py3-none-any.whl (13 kB)\n",
      "Downloading typing_inspection-0.4.0-py3-none-any.whl (14 kB)\n",
      "Downloading h11-0.14.0-py3-none-any.whl (58 kB)\n",
      "\u001b[2K   \u001b[90m━━━━━━━━━━━━━━━━━━━━━━━━━━━━━━━━━━━━━━━━\u001b[0m \u001b[32m58.3/58.3 kB\u001b[0m \u001b[31m3.3 MB/s\u001b[0m eta \u001b[36m0:00:00\u001b[0m\n",
      "\u001b[?25hInstalling collected packages: websockets, typing-inspection, pydantic-core, h11, annotated-types, pydantic, httpcore, httpx, elevenlabs\n",
      "Successfully installed annotated-types-0.7.0 elevenlabs-1.56.0 h11-0.14.0 httpcore-1.0.7 httpx-0.28.1 pydantic-2.11.2 pydantic-core-2.33.1 typing-inspection-0.4.0 websockets-15.0.1\n"
     ]
    }
   ],
   "source": [
    "! pip install elevenlabs\n"
   ]
  },
  {
   "cell_type": "code",
   "execution_count": 2,
   "metadata": {},
   "outputs": [],
   "source": [
    "from elevenlabs.client import ElevenLabs\n",
    "from elevenlabs import stream\n",
    "from config import API_KEY\n",
    "\n",
    "client = ElevenLabs(\n",
    "  api_key=API_KEY,\n",
    ")"
   ]
  },
  {
   "cell_type": "code",
   "execution_count": null,
   "metadata": {},
   "outputs": [],
   "source": [
    "audio_stream = client.text_to_speech.convert_as_stream(\n",
    "    text=\"This is a test\",\n",
    "    voice_id=\"JBFqnCBsd6RMkjVDRZzb\",\n",
    "    model_id=\"eleven_multilingual_v2\"\n",
    ")\n",
    "\n",
    "# option 1: play the streamed audio locally\n",
    "stream(audio_stream)\n",
    "\n",
    "# option 2: process the audio bytes manually\n",
    "for chunk in audio_stream:\n",
    "    if isinstance(chunk, bytes):\n",
    "        print(chunk)\n"
   ]
  },
  {
   "cell_type": "markdown",
   "metadata": {},
   "source": [
    "# Text to speech Demo\n",
    "* Returns the complete audio file in a single response\n",
    "* Requires the entire generation to finish before returning anything\n",
    "* Better for pre-generating audio content that will be used later\n",
    "* Suitable for non-real-time applications"
   ]
  },
  {
   "cell_type": "code",
   "execution_count": null,
   "metadata": {},
   "outputs": [],
   "source": [
    "client.text_to_speech.convert(\n",
    "    voice_id=\"JBFqnCBsd6RMkjVDRZzb\",\n",
    "    output_format=\"mp3_44100_128\",\n",
    "    text=\"The first move is what sets everything in motion.\",\n",
    "    model_id=\"eleven_multilingual_v2\",\n",
    ")"
   ]
  },
  {
   "cell_type": "markdown",
   "metadata": {},
   "source": [
    "# Create Speech with Timing Demo\n",
    "This is different than the text to speech demo because it gives back the timing information of words when spoken."
   ]
  },
  {
   "cell_type": "code",
   "execution_count": null,
   "metadata": {},
   "outputs": [],
   "source": [
    "client.text_to_speech.convert_with_timestamps(\n",
    "    voice_id=\"21m00Tcm4TlvDq8ikWAM\",\n",
    "    text=\"This is a test for the API of ElevenLabs.\",\n",
    ")"
   ]
  },
  {
   "cell_type": "markdown",
   "metadata": {},
   "source": [
    "# Stream Speech Demo\n",
    "Converts text into speech using a voice of your choice and returns audio as an audio stream.\n",
    "\n",
    "* Returns audio chunks as they're generated in real-time\n",
    "* Begins playback before the entire audio is complete\n",
    "* Uses HTTP chunked transfer encoding or server-sent events (SSE)\n",
    "* Ideal for conversational or interactive applications"
   ]
  },
  {
   "cell_type": "code",
   "execution_count": null,
   "metadata": {},
   "outputs": [],
   "source": [
    "client.text_to_speech.convert_as_stream(\n",
    "    voice_id=\"JBFqnCBsd6RMkjVDRZzb\",\n",
    "    output_format=\"mp3_44100_128\",\n",
    "    text=\"The first move is what sets everything in motion.\",\n",
    "    model_id=\"eleven_multilingual_v2\",\n",
    ")"
   ]
  },
  {
   "cell_type": "markdown",
   "metadata": {},
   "source": [
    "# Stream Speech with Timing Demo\n",
    "Converts text into speech using a voice of your choice and returns a stream of JSONs containing audio as a base64 encoded string together with information on when which character was spoken."
   ]
  },
  {
   "cell_type": "code",
   "execution_count": null,
   "metadata": {},
   "outputs": [],
   "source": [
    "response = client.text_to_speech.stream_with_timestamps(\n",
    "    voice_id=\"JBFqnCBsd6RMkjVDRZzb\",\n",
    "    output_format=\"mp3_44100_128\",\n",
    "    text=\"The first move is what sets everything in motion.\",\n",
    "    model_id=\"eleven_multilingual_v2\",\n",
    ")\n"
   ]
  },
  {
   "cell_type": "markdown",
   "metadata": {},
   "source": [
    "# Create Transcript Demo\n",
    "Provide audio or video and have a text transcript created"
   ]
  },
  {
   "cell_type": "code",
   "execution_count": null,
   "metadata": {},
   "outputs": [],
   "source": [
    "client.speech_to_text.convert(\n",
    "    model_id=\"model_id\",\n",
    ")"
   ]
  },
  {
   "cell_type": "markdown",
   "metadata": {},
   "source": [
    "# Voice Changer Demo\n",
    "Transform audio from one voice to another. Maintain full control over emotion, timing and delivery."
   ]
  },
  {
   "cell_type": "code",
   "execution_count": null,
   "metadata": {},
   "outputs": [],
   "source": [
    "client.speech_to_speech.convert(\n",
    "    voice_id=\"JBFqnCBsd6RMkjVDRZzb\",\n",
    "    output_format=\"mp3_44100_128\",\n",
    "    model_id=\"eleven_multilingual_sts_v2\",\n",
    ")"
   ]
  },
  {
   "cell_type": "markdown",
   "metadata": {},
   "source": [
    "# Voice Changer Stream Demo\n",
    "Stream audio from one voice to another. Maintain full control over emotion, timing and delivery."
   ]
  },
  {
   "cell_type": "code",
   "execution_count": null,
   "metadata": {},
   "outputs": [],
   "source": [
    "client.speech_to_speech.convert_as_stream(\n",
    "    voice_id=\"JBFqnCBsd6RMkjVDRZzb\",\n",
    "    output_format=\"mp3_44100_128\",\n",
    "    model_id=\"eleven_multilingual_sts_v2\",\n",
    ")"
   ]
  },
  {
   "cell_type": "markdown",
   "metadata": {},
   "source": []
  }
 ],
 "metadata": {
  "kernelspec": {
   "display_name": "Python 3",
   "language": "python",
   "name": "python3"
  },
  "language_info": {
   "codemirror_mode": {
    "name": "ipython",
    "version": 3
   },
   "file_extension": ".py",
   "mimetype": "text/x-python",
   "name": "python",
   "nbconvert_exporter": "python",
   "pygments_lexer": "ipython3",
   "version": "3.11.4"
  }
 },
 "nbformat": 4,
 "nbformat_minor": 2
}
